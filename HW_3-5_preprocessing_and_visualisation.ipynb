{
 "cells": [
  {
   "cell_type": "code",
   "execution_count": 54,
   "metadata": {},
   "outputs": [
    {
     "data": {
      "text/html": [
       "<div>\n",
       "<style scoped>\n",
       "    .dataframe tbody tr th:only-of-type {\n",
       "        vertical-align: middle;\n",
       "    }\n",
       "\n",
       "    .dataframe tbody tr th {\n",
       "        vertical-align: top;\n",
       "    }\n",
       "\n",
       "    .dataframe thead th {\n",
       "        text-align: right;\n",
       "    }\n",
       "</style>\n",
       "<table border=\"1\" class=\"dataframe\">\n",
       "  <thead>\n",
       "    <tr style=\"text-align: right;\">\n",
       "      <th></th>\n",
       "      <th>stim_id</th>\n",
       "      <th>start_time</th>\n",
       "      <th>end_time</th>\n",
       "      <th>key</th>\n",
       "      <th>reaction_time</th>\n",
       "      <th>participant</th>\n",
       "      <th>condition</th>\n",
       "      <th>freq_category</th>\n",
       "      <th>word</th>\n",
       "      <th>subtlex_log10freq</th>\n",
       "    </tr>\n",
       "  </thead>\n",
       "  <tbody>\n",
       "    <tr>\n",
       "      <th>0</th>\n",
       "      <td>0</td>\n",
       "      <td>0.074767</td>\n",
       "      <td>1.707187</td>\n",
       "      <td>m</td>\n",
       "      <td>1.632420</td>\n",
       "      <td>vp1</td>\n",
       "      <td>rw</td>\n",
       "      <td>LF</td>\n",
       "      <td>buidels</td>\n",
       "      <td>0.301</td>\n",
       "    </tr>\n",
       "    <tr>\n",
       "      <th>1</th>\n",
       "      <td>0</td>\n",
       "      <td>0.048573</td>\n",
       "      <td>1.296306</td>\n",
       "      <td>m</td>\n",
       "      <td>1.247733</td>\n",
       "      <td>vp2</td>\n",
       "      <td>rw</td>\n",
       "      <td>LF</td>\n",
       "      <td>buidels</td>\n",
       "      <td>0.301</td>\n",
       "    </tr>\n",
       "    <tr>\n",
       "      <th>2</th>\n",
       "      <td>1</td>\n",
       "      <td>1.741706</td>\n",
       "      <td>2.493649</td>\n",
       "      <td>m</td>\n",
       "      <td>0.751943</td>\n",
       "      <td>vp1</td>\n",
       "      <td>rw</td>\n",
       "      <td>LF</td>\n",
       "      <td>hese</td>\n",
       "      <td>0.301</td>\n",
       "    </tr>\n",
       "    <tr>\n",
       "      <th>3</th>\n",
       "      <td>1</td>\n",
       "      <td>1.331677</td>\n",
       "      <td>1.761309</td>\n",
       "      <td>m</td>\n",
       "      <td>0.429631</td>\n",
       "      <td>vp2</td>\n",
       "      <td>rw</td>\n",
       "      <td>LF</td>\n",
       "      <td>hese</td>\n",
       "      <td>0.301</td>\n",
       "    </tr>\n",
       "    <tr>\n",
       "      <th>4</th>\n",
       "      <td>2</td>\n",
       "      <td>2.524900</td>\n",
       "      <td>3.372663</td>\n",
       "      <td>m</td>\n",
       "      <td>0.847763</td>\n",
       "      <td>vp1</td>\n",
       "      <td>rw</td>\n",
       "      <td>LF</td>\n",
       "      <td>imams</td>\n",
       "      <td>0.301</td>\n",
       "    </tr>\n",
       "    <tr>\n",
       "      <th>...</th>\n",
       "      <td>...</td>\n",
       "      <td>...</td>\n",
       "      <td>...</td>\n",
       "      <td>...</td>\n",
       "      <td>...</td>\n",
       "      <td>...</td>\n",
       "      <td>...</td>\n",
       "      <td>...</td>\n",
       "      <td>...</td>\n",
       "      <td>...</td>\n",
       "    </tr>\n",
       "    <tr>\n",
       "      <th>395</th>\n",
       "      <td>197</td>\n",
       "      <td>143.041343</td>\n",
       "      <td>143.622673</td>\n",
       "      <td>x</td>\n",
       "      <td>0.581331</td>\n",
       "      <td>vp2</td>\n",
       "      <td>nw</td>\n",
       "      <td>none</td>\n",
       "      <td>snarpen</td>\n",
       "      <td>0</td>\n",
       "    </tr>\n",
       "    <tr>\n",
       "      <th>396</th>\n",
       "      <td>198</td>\n",
       "      <td>180.086869</td>\n",
       "      <td>180.762607</td>\n",
       "      <td>x</td>\n",
       "      <td>0.675737</td>\n",
       "      <td>vp1</td>\n",
       "      <td>nw</td>\n",
       "      <td>none</td>\n",
       "      <td>spodiel</td>\n",
       "      <td>0</td>\n",
       "    </tr>\n",
       "    <tr>\n",
       "      <th>397</th>\n",
       "      <td>198</td>\n",
       "      <td>143.658188</td>\n",
       "      <td>144.464396</td>\n",
       "      <td>x</td>\n",
       "      <td>0.806208</td>\n",
       "      <td>vp2</td>\n",
       "      <td>nw</td>\n",
       "      <td>none</td>\n",
       "      <td>spodiel</td>\n",
       "      <td>0</td>\n",
       "    </tr>\n",
       "    <tr>\n",
       "      <th>398</th>\n",
       "      <td>199</td>\n",
       "      <td>180.803675</td>\n",
       "      <td>181.780661</td>\n",
       "      <td>x</td>\n",
       "      <td>0.976986</td>\n",
       "      <td>vp1</td>\n",
       "      <td>nw</td>\n",
       "      <td>none</td>\n",
       "      <td>fankel</td>\n",
       "      <td>0</td>\n",
       "    </tr>\n",
       "    <tr>\n",
       "      <th>399</th>\n",
       "      <td>199</td>\n",
       "      <td>144.491630</td>\n",
       "      <td>145.110519</td>\n",
       "      <td>x</td>\n",
       "      <td>0.618889</td>\n",
       "      <td>vp2</td>\n",
       "      <td>nw</td>\n",
       "      <td>none</td>\n",
       "      <td>fankel</td>\n",
       "      <td>0</td>\n",
       "    </tr>\n",
       "  </tbody>\n",
       "</table>\n",
       "<p>400 rows × 10 columns</p>\n",
       "</div>"
      ],
      "text/plain": [
       "     stim_id  start_time    end_time key  reaction_time participant condition  \\\n",
       "0          0    0.074767    1.707187   m       1.632420         vp1        rw   \n",
       "1          0    0.048573    1.296306   m       1.247733         vp2        rw   \n",
       "2          1    1.741706    2.493649   m       0.751943         vp1        rw   \n",
       "3          1    1.331677    1.761309   m       0.429631         vp2        rw   \n",
       "4          2    2.524900    3.372663   m       0.847763         vp1        rw   \n",
       "..       ...         ...         ...  ..            ...         ...       ...   \n",
       "395      197  143.041343  143.622673   x       0.581331         vp2        nw   \n",
       "396      198  180.086869  180.762607   x       0.675737         vp1        nw   \n",
       "397      198  143.658188  144.464396   x       0.806208         vp2        nw   \n",
       "398      199  180.803675  181.780661   x       0.976986         vp1        nw   \n",
       "399      199  144.491630  145.110519   x       0.618889         vp2        nw   \n",
       "\n",
       "    freq_category     word subtlex_log10freq  \n",
       "0              LF  buidels             0.301  \n",
       "1              LF  buidels             0.301  \n",
       "2              LF     hese             0.301  \n",
       "3              LF     hese             0.301  \n",
       "4              LF    imams             0.301  \n",
       "..            ...      ...               ...  \n",
       "395          none  snarpen                 0  \n",
       "396          none  spodiel                 0  \n",
       "397          none  spodiel                 0  \n",
       "398          none   fankel                 0  \n",
       "399          none   fankel                 0  \n",
       "\n",
       "[400 rows x 10 columns]"
      ]
     },
     "execution_count": 54,
     "metadata": {},
     "output_type": "execute_result"
    }
   ],
   "source": [
    "import pandas as pd\n",
    "import numpy as np\n",
    "from matplotlib import pyplot as plt \n",
    "import seaborn as sns\n",
    "import plotnine as gg\n",
    "from plotnine import ggplot\n",
    "\n",
    "\n",
    "vp1 = pd.read_csv('vp1.csv')\n",
    "vp1[\"participant\"] = \"vp1\"\n",
    "vp1.to_csv(\"vp1.csv\", index=False)\n",
    "\n",
    "vp2 = pd.read_csv('vp2.csv')\n",
    "vp2[\"participant\"] = \"vp2\"\n",
    "vp2.to_csv(\"vp2.csv\", index=False)\n",
    "\n",
    "info = pd.read_csv('ldinfo.csv')\n",
    "\n",
    "participants = pd.concat([vp1,vp2])\n",
    "participants\n",
    "\n",
    "\n",
    "all_data = pd.merge(participants,info, on='stim_id')\n",
    "all_data"
   ]
  },
  {
   "cell_type": "code",
   "execution_count": 61,
   "metadata": {},
   "outputs": [
    {
     "data": {
      "text/html": [
       "<div>\n",
       "<style scoped>\n",
       "    .dataframe tbody tr th:only-of-type {\n",
       "        vertical-align: middle;\n",
       "    }\n",
       "\n",
       "    .dataframe tbody tr th {\n",
       "        vertical-align: top;\n",
       "    }\n",
       "\n",
       "    .dataframe thead th {\n",
       "        text-align: right;\n",
       "    }\n",
       "</style>\n",
       "<table border=\"1\" class=\"dataframe\">\n",
       "  <thead>\n",
       "    <tr style=\"text-align: right;\">\n",
       "      <th></th>\n",
       "      <th>participant</th>\n",
       "      <th>mean_RT</th>\n",
       "      <th>std_RT</th>\n",
       "    </tr>\n",
       "  </thead>\n",
       "  <tbody>\n",
       "    <tr>\n",
       "      <th>0</th>\n",
       "      <td>vp1</td>\n",
       "      <td>0.876954</td>\n",
       "      <td>0.298497</td>\n",
       "    </tr>\n",
       "    <tr>\n",
       "      <th>1</th>\n",
       "      <td>vp2</td>\n",
       "      <td>0.695617</td>\n",
       "      <td>0.289863</td>\n",
       "    </tr>\n",
       "  </tbody>\n",
       "</table>\n",
       "</div>"
      ],
      "text/plain": [
       "  participant   mean_RT    std_RT\n",
       "0         vp1  0.876954  0.298497\n",
       "1         vp2  0.695617  0.289863"
      ]
     },
     "execution_count": 61,
     "metadata": {},
     "output_type": "execute_result"
    }
   ],
   "source": [
    "\n",
    "participant = all_data.groupby(by='participant').aggregate(\n",
    "    mean_RT=pd.NamedAgg('reaction_time', np.mean),\n",
    "    std_RT=pd.NamedAgg('reaction_time', np.std)\n",
    ")\n",
    "participant.reset_index(inplace=True)\n",
    "participant\n",
    "\n"
   ]
  },
  {
   "cell_type": "code",
   "execution_count": 33,
   "metadata": {},
   "outputs": [],
   "source": [
    "### Visualisation\n",
    "\n",
    "from matplotlib import pyplot as plt \n",
    "import seaborn as sns\n",
    "import plotnine as gg\n",
    "from plotnine import ggplot\n",
    "\n",
    "\n"
   ]
  },
  {
   "cell_type": "code",
   "execution_count": 68,
   "metadata": {},
   "outputs": [
    {
     "data": {
      "image/png": "[encoded data removed]",
      "text/plain": [
       "<Figure size 432x288 with 1 Axes>"
      ]
     },
     "metadata": {
      "needs_background": "light"
     },
     "output_type": "display_data"
    },
    {
     "data": {
      "image/png": "[encoded data removed]",
      "text/plain": [
       "<Figure size 432x288 with 1 Axes>"
      ]
     },
     "metadata": {
      "needs_background": "light"
     },
     "output_type": "display_data"
    },
    {
     "data": {
      "image/png": "[encoded data removed]",
      "text/plain": [
       "<Figure size 640x480 with 1 Axes>"
      ]
     },
     "metadata": {},
     "output_type": "display_data"
    }
   ],
   "source": [
    "plt.figure()\n",
    "plt.bar(participant['participant'], participant['mean_RT'])\n",
    "plt.errorbar(participant['participant'], participant['mean_RT'], participant['std_RT'], fmt='k.')\n",
    "plt.show()\n",
    "\n",
    "\n",
    "sns.pointplot(x='mean_RT', y='participant', data=participant)\n",
    "plt.show()\n",
    "\n",
    "\n",
    "plot = (\n",
    "    ggplot(gg.aes(x='participant', y='reaction_time'), data=all_data) + \n",
    "    gg.geom_boxplot()\n",
    ")\n",
    "plot.draw()\n",
    "plt.show()"
   ]
  },
  {
   "cell_type": "code",
   "execution_count": null,
   "metadata": {},
   "outputs": [],
   "source": []
  },
  {
   "cell_type": "code",
   "execution_count": 63,
   "metadata": {},
   "outputs": [
    {
     "data": {
      "text/html": [
       "<div>\n",
       "<style scoped>\n",
       "    .dataframe tbody tr th:only-of-type {\n",
       "        vertical-align: middle;\n",
       "    }\n",
       "\n",
       "    .dataframe tbody tr th {\n",
       "        vertical-align: top;\n",
       "    }\n",
       "\n",
       "    .dataframe thead th {\n",
       "        text-align: right;\n",
       "    }\n",
       "</style>\n",
       "<table border=\"1\" class=\"dataframe\">\n",
       "  <thead>\n",
       "    <tr style=\"text-align: right;\">\n",
       "      <th></th>\n",
       "      <th>condition</th>\n",
       "      <th>mean_RT</th>\n",
       "      <th>std_RT</th>\n",
       "    </tr>\n",
       "  </thead>\n",
       "  <tbody>\n",
       "    <tr>\n",
       "      <th>0</th>\n",
       "      <td>nw</td>\n",
       "      <td>1.012509</td>\n",
       "      <td>0.218625</td>\n",
       "    </tr>\n",
       "    <tr>\n",
       "      <th>1</th>\n",
       "      <td>rw</td>\n",
       "      <td>0.560061</td>\n",
       "      <td>0.197432</td>\n",
       "    </tr>\n",
       "  </tbody>\n",
       "</table>\n",
       "</div>"
      ],
      "text/plain": [
       "  condition   mean_RT    std_RT\n",
       "0        nw  1.012509  0.218625\n",
       "1        rw  0.560061  0.197432"
      ]
     },
     "execution_count": 63,
     "metadata": {},
     "output_type": "execute_result"
    }
   ],
   "source": [
    "condition = all_data.groupby(by='condition').aggregate(\n",
    "    mean_RT=pd.NamedAgg('reaction_time', np.mean),\n",
    "    std_RT=pd.NamedAgg('reaction_time', np.std),\n",
    "\n",
    ")\n",
    "condition.reset_index(inplace=True)\n",
    "condition"
   ]
  },
  {
   "cell_type": "code",
   "execution_count": 70,
   "metadata": {},
   "outputs": [
    {
     "data": {
      "image/png": "[encoded data removed]",
      "text/plain": [
       "<Figure size 432x288 with 1 Axes>"
      ]
     },
     "metadata": {
      "needs_background": "light"
     },
     "output_type": "display_data"
    },
    {
     "data": {
      "image/png": "[encoded data removed]",
      "text/plain": [
       "<Figure size 432x288 with 1 Axes>"
      ]
     },
     "metadata": {
      "needs_background": "light"
     },
     "output_type": "display_data"
    },
    {
     "data": {
      "image/png": "[encoded data removed]",
      "text/plain": [
       "<Figure size 640x480 with 1 Axes>"
      ]
     },
     "metadata": {},
     "output_type": "display_data"
    }
   ],
   "source": [
    "plt.figure()\n",
    "plt.bar(condition['condition'], condition['mean_RT'])\n",
    "plt.errorbar(condition['condition'], condition['mean_RT'], condition['std_RT'], fmt='k.')\n",
    "plt.show()\n",
    "\n",
    "\n",
    "sns.pointplot(x='mean_RT', y='condition', data=condition)\n",
    "plt.show()\n",
    "\n",
    "\n",
    "plot = (\n",
    "    ggplot(gg.aes(x='condition', y='reaction_time'), data=all_data) + \n",
    "    gg.geom_boxplot(gg.aes(fill='condition'))\n",
    ")\n",
    "plot.draw()\n",
    "plt.show()"
   ]
  },
  {
   "cell_type": "code",
   "execution_count": null,
   "metadata": {},
   "outputs": [],
   "source": []
  },
  {
   "cell_type": "code",
   "execution_count": 71,
   "metadata": {},
   "outputs": [
    {
     "data": {
      "text/html": [
       "<div>\n",
       "<style scoped>\n",
       "    .dataframe tbody tr th:only-of-type {\n",
       "        vertical-align: middle;\n",
       "    }\n",
       "\n",
       "    .dataframe tbody tr th {\n",
       "        vertical-align: top;\n",
       "    }\n",
       "\n",
       "    .dataframe thead th {\n",
       "        text-align: right;\n",
       "    }\n",
       "</style>\n",
       "<table border=\"1\" class=\"dataframe\">\n",
       "  <thead>\n",
       "    <tr style=\"text-align: right;\">\n",
       "      <th></th>\n",
       "      <th>freq_category</th>\n",
       "      <th>mean_RT</th>\n",
       "      <th>std_RT</th>\n",
       "    </tr>\n",
       "  </thead>\n",
       "  <tbody>\n",
       "    <tr>\n",
       "      <th>0</th>\n",
       "      <td>HF</td>\n",
       "      <td>0.518330</td>\n",
       "      <td>0.175643</td>\n",
       "    </tr>\n",
       "    <tr>\n",
       "      <th>1</th>\n",
       "      <td>LF</td>\n",
       "      <td>0.601793</td>\n",
       "      <td>0.209722</td>\n",
       "    </tr>\n",
       "    <tr>\n",
       "      <th>2</th>\n",
       "      <td>none</td>\n",
       "      <td>1.012509</td>\n",
       "      <td>0.218625</td>\n",
       "    </tr>\n",
       "  </tbody>\n",
       "</table>\n",
       "</div>"
      ],
      "text/plain": [
       "  freq_category   mean_RT    std_RT\n",
       "0            HF  0.518330  0.175643\n",
       "1            LF  0.601793  0.209722\n",
       "2          none  1.012509  0.218625"
      ]
     },
     "execution_count": 71,
     "metadata": {},
     "output_type": "execute_result"
    }
   ],
   "source": [
    "frequencies = all_data.groupby(by='freq_category').aggregate(\n",
    "    mean_RT=pd.NamedAgg('reaction_time', np.mean),\n",
    "    std_RT=pd.NamedAgg('reaction_time', np.std),\n",
    "\n",
    ")\n",
    "frequencies.reset_index(inplace=True)\n",
    "frequencies"
   ]
  },
  {
   "cell_type": "code",
   "execution_count": 72,
   "metadata": {},
   "outputs": [
    {
     "data": {
      "image/png": "[encoded data removed]",
      "text/plain": [
       "<Figure size 432x288 with 1 Axes>"
      ]
     },
     "metadata": {
      "needs_background": "light"
     },
     "output_type": "display_data"
    },
    {
     "data": {
      "image/png": "[encoded data removed]",
      "text/plain": [
       "<Figure size 432x288 with 1 Axes>"
      ]
     },
     "metadata": {
      "needs_background": "light"
     },
     "output_type": "display_data"
    },
    {
     "data": {
      "image/png": "[encoded data removed]",
      "text/plain": [
       "<Figure size 640x480 with 1 Axes>"
      ]
     },
     "metadata": {},
     "output_type": "display_data"
    }
   ],
   "source": [
    "plt.figure()\n",
    "plt.bar(frequencies['freq_category'], frequencies['mean_RT'])\n",
    "plt.errorbar(frequencies['freq_category'], frequencies['mean_RT'], frequencies['std_RT'], fmt='k.')\n",
    "plt.show()\n",
    "\n",
    "\n",
    "sns.pointplot(x='mean_RT', y='freq_category', data=frequencies)\n",
    "plt.show()\n",
    "\n",
    "\n",
    "plot = (\n",
    "    ggplot(gg.aes(x='freq_category', y='reaction_time'), data=all_data) + \n",
    "    gg.geom_boxplot(gg.aes(fill='freq_category'))\n",
    ")\n",
    "plot.draw()\n",
    "plt.show()"
   ]
  },
  {
   "cell_type": "code",
   "execution_count": null,
   "metadata": {},
   "outputs": [],
   "source": []
  }
 ],
 "metadata": {
  "interpreter": {
   "hash": "aee8b7b246df8f9039afb4144a1f6fd8d2ca17a180786b69acc140d282b71a49"
  },
  "kernelspec": {
   "display_name": "Python 3.9.12 64-bit",
   "language": "python",
   "name": "python3"
  },
  "language_info": {
   "codemirror_mode": {
    "name": "ipython",
    "version": 3
   },
   "file_extension": ".py",
   "mimetype": "text/x-python",
   "name": "python",
   "nbconvert_exporter": "python",
   "pygments_lexer": "ipython3",
   "version": "3.9.12"
  },
  "orig_nbformat": 4
 },
 "nbformat": 4,
 "nbformat_minor": 2
}
